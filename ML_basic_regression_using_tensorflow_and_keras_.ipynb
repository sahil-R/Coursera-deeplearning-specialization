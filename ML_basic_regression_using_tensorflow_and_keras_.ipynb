{
  "nbformat": 4,
  "nbformat_minor": 0,
  "metadata": {
    "colab": {
      "name": "ML basic regression using tensorflow and keras .ipynb",
      "provenance": [],
      "authorship_tag": "ABX9TyPYljZWOznhljFBPlHCMXKs",
      "include_colab_link": true
    },
    "kernelspec": {
      "name": "python3",
      "display_name": "Python 3"
    },
    "language_info": {
      "name": "python"
    }
  },
  "cells": [
    {
      "cell_type": "markdown",
      "metadata": {
        "id": "view-in-github",
        "colab_type": "text"
      },
      "source": [
        "<a href=\"https://colab.research.google.com/github/sahil-R/Coursera-deeplearning-specialization/blob/master/ML_basic_regression_using_tensorflow_and_keras_.ipynb\" target=\"_parent\"><img src=\"https://colab.research.google.com/assets/colab-badge.svg\" alt=\"Open In Colab\"/></a>"
      ]
    },
    {
      "cell_type": "markdown",
      "metadata": {
        "id": "p07aP5msLAwc"
      },
      "source": [
        "Install SeaBorn "
      ]
    },
    {
      "cell_type": "code",
      "metadata": {
        "id": "y3JVIqloKzQm"
      },
      "source": [
        "pip install -q seaborn"
      ],
      "execution_count": 1,
      "outputs": []
    },
    {
      "cell_type": "code",
      "metadata": {
        "id": "kIJCu_q6K9Tz"
      },
      "source": [
        ""
      ],
      "execution_count": null,
      "outputs": []
    }
  ]
}